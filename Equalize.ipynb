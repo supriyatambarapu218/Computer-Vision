# import necessary libraries
import cv2
import numpy as np
import matplotlib.pyplot as plt

# read the image using imread
img = cv2.imread('ref.jpg')
 

# Convert the image to grayscale (histogram equalization works on grayscale images)
gray = cv2.cvtColor(img, cv2.COLOR_BGR2GRAY)

# Applying Histogram Equalization
equ = cv2.equalizeHist(gray)

# Stacking images side by side
res = np.hstack((gray, equ))

# Show the input image (gray) and equalized output image
plt.figure(figsize=(10, 8))
plt.imshow(res)  # 'gray' for grayscale images
plt.title('Original vs Equalized Image')
plt.axis('off')  # Turn off axis labels
plt.show()

# Plot the histograms of the original and equalized images
plt.figure(figsize=(12, 6))

# Plot original image histogram
plt.subplot(1, 2, 1)
plt.hist(gray.ravel(), bins=256, range=[0, 256], color='black')
plt.title("Original Image Histogram")
plt.xlim([0, 256])

# Plot equalized image histogram
plt.subplot(1, 2, 2)
plt.hist(equ.ravel(), bins=256, range=[0, 256], color='black')
plt.title("Equalized Image Histogram")
plt.xlim([0, 256])

# Show the histograms
plt.tight_layout()
plt.show()

# import necessary libraries
import cv2
import numpy as np
import matplotlib.pyplot as plt

# read the image using imread
img = cv2.imread('ref.jpg')
 

# Convert the image to grayscale (histogram equalization works on grayscale images)
gray = cv2.cvtColor(img, cv2.COLOR_BGR2GRAY)

# Applying Histogram Equalization
equ = cv2.equalizeHist(gray)

# Stacking images side by side
res = np.hstack((gray, equ))

# Show the input image (gray) and equalized output image
plt.figure(figsize=(10, 8))
plt.imshow(res)  # 'gray' for grayscale images
plt.title('Original vs Equalized Image')
plt.axis('off')  # Turn off axis labels
plt.show()

# Plot the histograms of the original and equalized images
plt.figure(figsize=(12, 6))

# Plot original image histogram
plt.subplot(1, 2, 1)
plt.hist(gray.ravel(), bins=256, range=[0, 256], color='black')
plt.title("Original Image Histogram")
plt.xlim([0, 256])

# Plot equalized image histogram
plt.subplot(1, 2, 2)
plt.hist(equ.ravel(), bins=256, range=[0, 256], color='black')
plt.title("Equalized Image Histogram")
plt.xlim([0, 256])

# Show the histograms
plt.tight_layout()
plt.show()

    

